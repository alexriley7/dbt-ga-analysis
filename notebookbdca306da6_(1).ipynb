{
  "metadata": {
    "kernelspec": {
      "language": "python",
      "display_name": "Python 3",
      "name": "python3"
    },
    "language_info": {
      "name": "python",
      "version": "3.7.12",
      "mimetype": "text/x-python",
      "codemirror_mode": {
        "name": "ipython",
        "version": 3
      },
      "pygments_lexer": "ipython3",
      "nbconvert_exporter": "python",
      "file_extension": ".py"
    },
    "colab": {
      "provenance": [],
      "include_colab_link": true
    }
  },
  "nbformat_minor": 0,
  "nbformat": 4,
  "cells": [
    {
      "cell_type": "markdown",
      "metadata": {
        "id": "view-in-github",
        "colab_type": "text"
      },
      "source": [
        "<a href=\"https://colab.research.google.com/github/alexriley7/dbt-ga-analysis/blob/main/notebookbdca306da6_(1).ipynb\" target=\"_parent\"><img src=\"https://colab.research.google.com/assets/colab-badge.svg\" alt=\"Open In Colab\"/></a>"
      ]
    },
    {
      "cell_type": "code",
      "source": [
        "# This Python 3 environment comes with many helpful analytics libraries installed\n",
        "# It is defined by the kaggle/python Docker image: https://github.com/kaggle/docker-python\n",
        "# For example, here's several helpful packages to load\n",
        "\n",
        "import numpy as np # linear algebra\n",
        "import pandas as pd # data processing, CSV file I/O (e.g. pd.read_csv)\n",
        "\n",
        "# Input data files are available in the read-only \"../input/\" directory\n",
        "# For example, running this (by clicking run or pressing Shift+Enter) will list all files under the input directory\n",
        "\n",
        "import os\n",
        "for dirname, _, filenames in os.walk('/kaggle/input'):\n",
        "    for filename in filenames:\n",
        "        print(os.path.join(dirname, filename))\n",
        "\n",
        "# You can write up to 20GB to the current directory (/kaggle/working/) that gets preserved as output when you create a version using \"Save & Run All\" \n",
        "# You can also write temporary files to /kaggle/temp/, but they won't be saved outside of the current session"
      ],
      "metadata": {
        "_uuid": "8f2839f25d086af736a60e9eeb907d3b93b6e0e5",
        "_cell_guid": "b1076dfc-b9ad-4769-8c92-a6c4dae69d19",
        "execution": {
          "iopub.status.busy": "2022-11-03T16:47:46.037857Z",
          "iopub.execute_input": "2022-11-03T16:47:46.038634Z",
          "iopub.status.idle": "2022-11-03T16:47:46.044379Z",
          "shell.execute_reply.started": "2022-11-03T16:47:46.038591Z",
          "shell.execute_reply": "2022-11-03T16:47:46.043553Z"
        },
        "trusted": true,
        "id": "f2rBd0pLZfoj"
      },
      "execution_count": null,
      "outputs": []
    },
    {
      "cell_type": "code",
      "source": [
        "import bq_helper "
      ],
      "metadata": {
        "trusted": true,
        "id": "T5r9lc0uZfor"
      },
      "execution_count": null,
      "outputs": []
    },
    {
      "cell_type": "code",
      "source": [
        "#Basic libraries that we will need, you can copy - paste it:)\n",
        "\n",
        "import pandas as pd\n",
        "import numpy as np \n",
        "import matplotlib.pyplot as plt\n",
        "import seaborn as sns\n",
        "import bq_helper\n",
        "\n",
        "from google.cloud import bigquery\n",
        "client = bigquery.Client()"
      ],
      "metadata": {
        "execution": {
          "iopub.status.busy": "2022-11-03T16:47:49.991035Z",
          "iopub.execute_input": "2022-11-03T16:47:49.992349Z",
          "iopub.status.idle": "2022-11-03T16:47:50.692346Z",
          "shell.execute_reply.started": "2022-11-03T16:47:49.992284Z",
          "shell.execute_reply": "2022-11-03T16:47:50.691078Z"
        },
        "trusted": true,
        "id": "UClo7zNoZfos",
        "outputId": "ff31b190-0e00-4ca0-bab8-efc66ef165e8"
      },
      "execution_count": null,
      "outputs": [
        {
          "name": "stdout",
          "text": "Using Kaggle's public dataset BigQuery integration.\n",
          "output_type": "stream"
        }
      ]
    },
    {
      "cell_type": "code",
      "source": [
        "query_totals = \"\"\"\n",
        "select * from unnest(array(\n",
        "                            SELECT\n",
        "                            trafficSource\n",
        "                            FROM `bigquery-public-data.google_analytics_sample.ga_sessions_*`\n",
        "\n",
        "WHERE _TABLE_SUFFIX BETWEEN '20170101' AND '20170131'\n",
        "                            \n",
        "                           )\n",
        "                    )\n",
        "  \"\"\"\n",
        "safe_query_job= client.query(query_totals)\n",
        "unnested_trafficSource_20170101_df= safe_query_job.to_dataframe()\n",
        "unnested_trafficSource_20170101_df"
      ],
      "metadata": {
        "execution": {
          "iopub.status.busy": "2022-11-03T16:47:54.579373Z",
          "iopub.execute_input": "2022-11-03T16:47:54.579811Z",
          "iopub.status.idle": "2022-11-03T16:48:05.430002Z",
          "shell.execute_reply.started": "2022-11-03T16:47:54.579774Z",
          "shell.execute_reply": "2022-11-03T16:48:05.428788Z"
        },
        "trusted": true,
        "id": "UefVMEYEZfov",
        "outputId": "ff3767ed-d799-4afa-9196-27d6295da927"
      },
      "execution_count": null,
      "outputs": [
        {
          "name": "stderr",
          "text": "/opt/conda/lib/python3.7/site-packages/google/cloud/bigquery/client.py:440: UserWarning: Cannot create BigQuery Storage client, the dependency google-cloud-bigquery-storage is not installed.\n  \"Cannot create BigQuery Storage client, the dependency \"\n",
          "output_type": "stream"
        },
        {
          "execution_count": 9,
          "output_type": "execute_result",
          "data": {
            "text/plain": "      referralPath   campaign    source  medium keyword adContent  \\\n0             None  (not set)  (direct)  (none)    None      None   \n1             None  (not set)  (direct)  (none)    None      None   \n2             None  (not set)  (direct)  (none)    None      None   \n3             None  (not set)  (direct)  (none)    None      None   \n4             None  (not set)  (direct)  (none)    None      None   \n...            ...        ...       ...     ...     ...       ...   \n64689         None  (not set)  (direct)  (none)    None      None   \n64690            /  (not set)  (direct)  (none)    None      None   \n64691            /  (not set)  (direct)  (none)    None      None   \n64692         None  (not set)  (direct)  (none)    None      None   \n64693         None  (not set)  (direct)  (none)    None      None   \n\n                                        adwordsClickInfo isTrueDirect  \\\n0      {'campaignId': None, 'adGroupId': None, 'creat...         True   \n1      {'campaignId': None, 'adGroupId': None, 'creat...         True   \n2      {'campaignId': None, 'adGroupId': None, 'creat...         True   \n3      {'campaignId': None, 'adGroupId': None, 'creat...         True   \n4      {'campaignId': None, 'adGroupId': None, 'creat...         True   \n...                                                  ...          ...   \n64689  {'campaignId': None, 'adGroupId': None, 'creat...         True   \n64690  {'campaignId': None, 'adGroupId': None, 'creat...         None   \n64691  {'campaignId': None, 'adGroupId': None, 'creat...         True   \n64692  {'campaignId': None, 'adGroupId': None, 'creat...         None   \n64693  {'campaignId': None, 'adGroupId': None, 'creat...         None   \n\n      campaignCode  \n0             None  \n1             None  \n2             None  \n3             None  \n4             None  \n...            ...  \n64689         None  \n64690         None  \n64691         None  \n64692         None  \n64693         None  \n\n[64694 rows x 9 columns]",
            "text/html": "<div>\n<style scoped>\n    .dataframe tbody tr th:only-of-type {\n        vertical-align: middle;\n    }\n\n    .dataframe tbody tr th {\n        vertical-align: top;\n    }\n\n    .dataframe thead th {\n        text-align: right;\n    }\n</style>\n<table border=\"1\" class=\"dataframe\">\n  <thead>\n    <tr style=\"text-align: right;\">\n      <th></th>\n      <th>referralPath</th>\n      <th>campaign</th>\n      <th>source</th>\n      <th>medium</th>\n      <th>keyword</th>\n      <th>adContent</th>\n      <th>adwordsClickInfo</th>\n      <th>isTrueDirect</th>\n      <th>campaignCode</th>\n    </tr>\n  </thead>\n  <tbody>\n    <tr>\n      <th>0</th>\n      <td>None</td>\n      <td>(not set)</td>\n      <td>(direct)</td>\n      <td>(none)</td>\n      <td>None</td>\n      <td>None</td>\n      <td>{'campaignId': None, 'adGroupId': None, 'creat...</td>\n      <td>True</td>\n      <td>None</td>\n    </tr>\n    <tr>\n      <th>1</th>\n      <td>None</td>\n      <td>(not set)</td>\n      <td>(direct)</td>\n      <td>(none)</td>\n      <td>None</td>\n      <td>None</td>\n      <td>{'campaignId': None, 'adGroupId': None, 'creat...</td>\n      <td>True</td>\n      <td>None</td>\n    </tr>\n    <tr>\n      <th>2</th>\n      <td>None</td>\n      <td>(not set)</td>\n      <td>(direct)</td>\n      <td>(none)</td>\n      <td>None</td>\n      <td>None</td>\n      <td>{'campaignId': None, 'adGroupId': None, 'creat...</td>\n      <td>True</td>\n      <td>None</td>\n    </tr>\n    <tr>\n      <th>3</th>\n      <td>None</td>\n      <td>(not set)</td>\n      <td>(direct)</td>\n      <td>(none)</td>\n      <td>None</td>\n      <td>None</td>\n      <td>{'campaignId': None, 'adGroupId': None, 'creat...</td>\n      <td>True</td>\n      <td>None</td>\n    </tr>\n    <tr>\n      <th>4</th>\n      <td>None</td>\n      <td>(not set)</td>\n      <td>(direct)</td>\n      <td>(none)</td>\n      <td>None</td>\n      <td>None</td>\n      <td>{'campaignId': None, 'adGroupId': None, 'creat...</td>\n      <td>True</td>\n      <td>None</td>\n    </tr>\n    <tr>\n      <th>...</th>\n      <td>...</td>\n      <td>...</td>\n      <td>...</td>\n      <td>...</td>\n      <td>...</td>\n      <td>...</td>\n      <td>...</td>\n      <td>...</td>\n      <td>...</td>\n    </tr>\n    <tr>\n      <th>64689</th>\n      <td>None</td>\n      <td>(not set)</td>\n      <td>(direct)</td>\n      <td>(none)</td>\n      <td>None</td>\n      <td>None</td>\n      <td>{'campaignId': None, 'adGroupId': None, 'creat...</td>\n      <td>True</td>\n      <td>None</td>\n    </tr>\n    <tr>\n      <th>64690</th>\n      <td>/</td>\n      <td>(not set)</td>\n      <td>(direct)</td>\n      <td>(none)</td>\n      <td>None</td>\n      <td>None</td>\n      <td>{'campaignId': None, 'adGroupId': None, 'creat...</td>\n      <td>None</td>\n      <td>None</td>\n    </tr>\n    <tr>\n      <th>64691</th>\n      <td>/</td>\n      <td>(not set)</td>\n      <td>(direct)</td>\n      <td>(none)</td>\n      <td>None</td>\n      <td>None</td>\n      <td>{'campaignId': None, 'adGroupId': None, 'creat...</td>\n      <td>True</td>\n      <td>None</td>\n    </tr>\n    <tr>\n      <th>64692</th>\n      <td>None</td>\n      <td>(not set)</td>\n      <td>(direct)</td>\n      <td>(none)</td>\n      <td>None</td>\n      <td>None</td>\n      <td>{'campaignId': None, 'adGroupId': None, 'creat...</td>\n      <td>None</td>\n      <td>None</td>\n    </tr>\n    <tr>\n      <th>64693</th>\n      <td>None</td>\n      <td>(not set)</td>\n      <td>(direct)</td>\n      <td>(none)</td>\n      <td>None</td>\n      <td>None</td>\n      <td>{'campaignId': None, 'adGroupId': None, 'creat...</td>\n      <td>None</td>\n      <td>None</td>\n    </tr>\n  </tbody>\n</table>\n<p>64694 rows × 9 columns</p>\n</div>"
          },
          "metadata": {}
        }
      ]
    },
    {
      "cell_type": "code",
      "source": [
        "unnested_trafficSource_20170101_df.to_csv(\"unnested_trafficSource_20170101_df.csv\")"
      ],
      "metadata": {
        "execution": {
          "iopub.status.busy": "2022-11-03T14:39:44.173719Z",
          "iopub.execute_input": "2022-11-03T14:39:44.174142Z",
          "iopub.status.idle": "2022-11-03T14:39:44.847096Z",
          "shell.execute_reply.started": "2022-11-03T14:39:44.174111Z",
          "shell.execute_reply": "2022-11-03T14:39:44.845787Z"
        },
        "trusted": true,
        "id": "kL9rMhNQZfow"
      },
      "execution_count": null,
      "outputs": []
    },
    {
      "cell_type": "code",
      "source": [
        "#Exploring the data\n",
        "query_= \"\"\"\n",
        "SELECT\n",
        "--Selecting all columns\n",
        "  * \n",
        "                            FROM `bigquery-public-data.google_analytics_sample.ga_sessions_*`\n",
        "\n",
        "WHERE _TABLE_SUFFIX BETWEEN '20170701' AND '20170731'\n",
        "  \"\"\"\n",
        "safe_query_job= client.query(query_)\n",
        "summary_df2= safe_query_job.to_dataframe()\n",
        "summary_df2"
      ],
      "metadata": {
        "execution": {
          "iopub.status.busy": "2022-11-03T15:03:22.940662Z",
          "iopub.execute_input": "2022-11-03T15:03:22.941093Z",
          "iopub.status.idle": "2022-11-03T15:12:42.724355Z",
          "shell.execute_reply.started": "2022-11-03T15:03:22.941060Z",
          "shell.execute_reply": "2022-11-03T15:12:42.723132Z"
        },
        "trusted": true,
        "id": "gPOx4I4vZfox",
        "outputId": "6c5f76fe-9a99-4b3e-f6d4-d5746993ad8c"
      },
      "execution_count": null,
      "outputs": [
        {
          "name": "stderr",
          "text": "/opt/conda/lib/python3.7/site-packages/google/cloud/bigquery/client.py:440: UserWarning: Cannot create BigQuery Storage client, the dependency google-cloud-bigquery-storage is not installed.\n  \"Cannot create BigQuery Storage client, the dependency \"\n",
          "output_type": "stream"
        },
        {
          "execution_count": 17,
          "output_type": "execute_result",
          "data": {
            "text/plain": "       visitorId  visitNumber     visitId  visitStartTime      date  \\\n0            NaN            1  1499209907      1499209907  20170704   \n1            NaN            1  1499178835      1499178835  20170704   \n2            NaN            1  1499171367      1499171367  20170704   \n3            NaN            2  1499182157      1499182157  20170704   \n4            NaN            1  1499170070      1499170070  20170704   \n...          ...          ...         ...             ...       ...   \n71807        NaN           10  1500491905      1500491905  20170719   \n71808        NaN            1  1500526601      1500526601  20170719   \n71809        NaN            6  1500475477      1500475477  20170719   \n71810        NaN            1  1500528732      1500528732  20170719   \n71811        NaN            1  1500507082      1500507082  20170719   \n\n                                                  totals  \\\n0      {'visits': 1, 'hits': 1, 'pageviews': 1.0, 'ti...   \n1      {'visits': 1, 'hits': 1, 'pageviews': 1.0, 'ti...   \n2      {'visits': 1, 'hits': 1, 'pageviews': 1.0, 'ti...   \n3      {'visits': 1, 'hits': 1, 'pageviews': 1.0, 'ti...   \n4      {'visits': 1, 'hits': 1, 'pageviews': 1.0, 'ti...   \n...                                                  ...   \n71807  {'visits': 1, 'hits': 1, 'pageviews': 1, 'time...   \n71808  {'visits': 1, 'hits': 1, 'pageviews': 1, 'time...   \n71809  {'visits': 1, 'hits': 1, 'pageviews': 1, 'time...   \n71810  {'visits': 1, 'hits': 1, 'pageviews': 1, 'time...   \n71811  {'visits': 1, 'hits': 1, 'pageviews': 1, 'time...   \n\n                                           trafficSource  \\\n0      {'referralPath': None, 'campaign': '(not set)'...   \n1      {'referralPath': None, 'campaign': '(not set)'...   \n2      {'referralPath': None, 'campaign': '(not set)'...   \n3      {'referralPath': None, 'campaign': '(not set)'...   \n4      {'referralPath': None, 'campaign': '(not set)'...   \n...                                                  ...   \n71807  {'referralPath': '/analytics/web/', 'campaign'...   \n71808  {'referralPath': '/analytics/web/', 'campaign'...   \n71809  {'referralPath': '/analytics/web/', 'campaign'...   \n71810  {'referralPath': '/analytics/web/', 'campaign'...   \n71811  {'referralPath': '/analytics/web/', 'campaign'...   \n\n                                                  device  \\\n0      {'browser': 'Chrome', 'browserVersion': 'not a...   \n1      {'browser': 'Chrome', 'browserVersion': 'not a...   \n2      {'browser': 'Safari', 'browserVersion': 'not a...   \n3      {'browser': 'Amazon Silk', 'browserVersion': '...   \n4      {'browser': 'Android Webview', 'browserVersion...   \n...                                                  ...   \n71807  {'browser': 'Chrome', 'browserVersion': 'not a...   \n71808  {'browser': 'Chrome', 'browserVersion': 'not a...   \n71809  {'browser': 'Chrome', 'browserVersion': 'not a...   \n71810  {'browser': 'Safari', 'browserVersion': 'not a...   \n71811  {'browser': 'Chrome', 'browserVersion': 'not a...   \n\n                                              geoNetwork  \\\n0      {'continent': 'Europe', 'subContinent': 'North...   \n1      {'continent': 'Europe', 'subContinent': 'North...   \n2      {'continent': 'Asia', 'subContinent': 'Western...   \n3      {'continent': 'Americas', 'subContinent': 'Nor...   \n4      {'continent': 'Americas', 'subContinent': 'Sou...   \n...                                                  ...   \n71807  {'continent': 'Europe', 'subContinent': 'Easte...   \n71808  {'continent': 'Asia', 'subContinent': 'Souther...   \n71809  {'continent': 'Americas', 'subContinent': 'Cen...   \n71810  {'continent': 'Americas', 'subContinent': 'Nor...   \n71811  {'continent': 'Americas', 'subContinent': 'Nor...   \n\n                                 customDimensions  \\\n0                 [{'index': 4, 'value': 'EMEA'}]   \n1                                              []   \n2                 [{'index': 4, 'value': 'EMEA'}]   \n3        [{'index': 4, 'value': 'North America'}]   \n4                                              []   \n...                                           ...   \n71807                                          []   \n71808             [{'index': 4, 'value': 'APAC'}]   \n71809  [{'index': 4, 'value': 'Central America'}]   \n71810    [{'index': 4, 'value': 'North America'}]   \n71811    [{'index': 4, 'value': 'North America'}]   \n\n                                                    hits        fullVisitorId  \\\n0      [{'hitNumber': 1, 'time': 0, 'hour': 16, 'minu...  2985182300705503123   \n1      [{'hitNumber': 1, 'time': 0, 'hour': 7, 'minut...  7337805606046748809   \n2      [{'hitNumber': 1, 'time': 0, 'hour': 5, 'minut...  9481022681897793206   \n3      [{'hitNumber': 1, 'time': 0, 'hour': 8, 'minut...  6561096897353816860   \n4      [{'hitNumber': 1, 'time': 0, 'hour': 5, 'minut...  0358440404267825612   \n...                                                  ...                  ...   \n71807  [{'hitNumber': 1, 'time': 0, 'hour': 12, 'minu...  3138568244374225826   \n71808  [{'hitNumber': 1, 'time': 0, 'hour': 21, 'minu...  8722495976853415028   \n71809  [{'hitNumber': 1, 'time': 0, 'hour': 7, 'minut...  4640491371990904029   \n71810  [{'hitNumber': 1, 'time': 0, 'hour': 22, 'minu...  0414907284502670669   \n71811  [{'hitNumber': 1, 'time': 0, 'hour': 16, 'minu...  7347253756080713595   \n\n      userId clientId channelGrouping  socialEngagementType  \n0       None     None  Organic Search  Not Socially Engaged  \n1       None     None  Organic Search  Not Socially Engaged  \n2       None     None  Organic Search  Not Socially Engaged  \n3       None     None  Organic Search  Not Socially Engaged  \n4       None     None  Organic Search  Not Socially Engaged  \n...      ...      ...             ...                   ...  \n71807   None     None        Referral  Not Socially Engaged  \n71808   None     None        Referral  Not Socially Engaged  \n71809   None     None        Referral  Not Socially Engaged  \n71810   None     None        Referral  Not Socially Engaged  \n71811   None     None        Referral  Not Socially Engaged  \n\n[71812 rows x 16 columns]",
            "text/html": "<div>\n<style scoped>\n    .dataframe tbody tr th:only-of-type {\n        vertical-align: middle;\n    }\n\n    .dataframe tbody tr th {\n        vertical-align: top;\n    }\n\n    .dataframe thead th {\n        text-align: right;\n    }\n</style>\n<table border=\"1\" class=\"dataframe\">\n  <thead>\n    <tr style=\"text-align: right;\">\n      <th></th>\n      <th>visitorId</th>\n      <th>visitNumber</th>\n      <th>visitId</th>\n      <th>visitStartTime</th>\n      <th>date</th>\n      <th>totals</th>\n      <th>trafficSource</th>\n      <th>device</th>\n      <th>geoNetwork</th>\n      <th>customDimensions</th>\n      <th>hits</th>\n      <th>fullVisitorId</th>\n      <th>userId</th>\n      <th>clientId</th>\n      <th>channelGrouping</th>\n      <th>socialEngagementType</th>\n    </tr>\n  </thead>\n  <tbody>\n    <tr>\n      <th>0</th>\n      <td>NaN</td>\n      <td>1</td>\n      <td>1499209907</td>\n      <td>1499209907</td>\n      <td>20170704</td>\n      <td>{'visits': 1, 'hits': 1, 'pageviews': 1.0, 'ti...</td>\n      <td>{'referralPath': None, 'campaign': '(not set)'...</td>\n      <td>{'browser': 'Chrome', 'browserVersion': 'not a...</td>\n      <td>{'continent': 'Europe', 'subContinent': 'North...</td>\n      <td>[{'index': 4, 'value': 'EMEA'}]</td>\n      <td>[{'hitNumber': 1, 'time': 0, 'hour': 16, 'minu...</td>\n      <td>2985182300705503123</td>\n      <td>None</td>\n      <td>None</td>\n      <td>Organic Search</td>\n      <td>Not Socially Engaged</td>\n    </tr>\n    <tr>\n      <th>1</th>\n      <td>NaN</td>\n      <td>1</td>\n      <td>1499178835</td>\n      <td>1499178835</td>\n      <td>20170704</td>\n      <td>{'visits': 1, 'hits': 1, 'pageviews': 1.0, 'ti...</td>\n      <td>{'referralPath': None, 'campaign': '(not set)'...</td>\n      <td>{'browser': 'Chrome', 'browserVersion': 'not a...</td>\n      <td>{'continent': 'Europe', 'subContinent': 'North...</td>\n      <td>[]</td>\n      <td>[{'hitNumber': 1, 'time': 0, 'hour': 7, 'minut...</td>\n      <td>7337805606046748809</td>\n      <td>None</td>\n      <td>None</td>\n      <td>Organic Search</td>\n      <td>Not Socially Engaged</td>\n    </tr>\n    <tr>\n      <th>2</th>\n      <td>NaN</td>\n      <td>1</td>\n      <td>1499171367</td>\n      <td>1499171367</td>\n      <td>20170704</td>\n      <td>{'visits': 1, 'hits': 1, 'pageviews': 1.0, 'ti...</td>\n      <td>{'referralPath': None, 'campaign': '(not set)'...</td>\n      <td>{'browser': 'Safari', 'browserVersion': 'not a...</td>\n      <td>{'continent': 'Asia', 'subContinent': 'Western...</td>\n      <td>[{'index': 4, 'value': 'EMEA'}]</td>\n      <td>[{'hitNumber': 1, 'time': 0, 'hour': 5, 'minut...</td>\n      <td>9481022681897793206</td>\n      <td>None</td>\n      <td>None</td>\n      <td>Organic Search</td>\n      <td>Not Socially Engaged</td>\n    </tr>\n    <tr>\n      <th>3</th>\n      <td>NaN</td>\n      <td>2</td>\n      <td>1499182157</td>\n      <td>1499182157</td>\n      <td>20170704</td>\n      <td>{'visits': 1, 'hits': 1, 'pageviews': 1.0, 'ti...</td>\n      <td>{'referralPath': None, 'campaign': '(not set)'...</td>\n      <td>{'browser': 'Amazon Silk', 'browserVersion': '...</td>\n      <td>{'continent': 'Americas', 'subContinent': 'Nor...</td>\n      <td>[{'index': 4, 'value': 'North America'}]</td>\n      <td>[{'hitNumber': 1, 'time': 0, 'hour': 8, 'minut...</td>\n      <td>6561096897353816860</td>\n      <td>None</td>\n      <td>None</td>\n      <td>Organic Search</td>\n      <td>Not Socially Engaged</td>\n    </tr>\n    <tr>\n      <th>4</th>\n      <td>NaN</td>\n      <td>1</td>\n      <td>1499170070</td>\n      <td>1499170070</td>\n      <td>20170704</td>\n      <td>{'visits': 1, 'hits': 1, 'pageviews': 1.0, 'ti...</td>\n      <td>{'referralPath': None, 'campaign': '(not set)'...</td>\n      <td>{'browser': 'Android Webview', 'browserVersion...</td>\n      <td>{'continent': 'Americas', 'subContinent': 'Sou...</td>\n      <td>[]</td>\n      <td>[{'hitNumber': 1, 'time': 0, 'hour': 5, 'minut...</td>\n      <td>0358440404267825612</td>\n      <td>None</td>\n      <td>None</td>\n      <td>Organic Search</td>\n      <td>Not Socially Engaged</td>\n    </tr>\n    <tr>\n      <th>...</th>\n      <td>...</td>\n      <td>...</td>\n      <td>...</td>\n      <td>...</td>\n      <td>...</td>\n      <td>...</td>\n      <td>...</td>\n      <td>...</td>\n      <td>...</td>\n      <td>...</td>\n      <td>...</td>\n      <td>...</td>\n      <td>...</td>\n      <td>...</td>\n      <td>...</td>\n      <td>...</td>\n    </tr>\n    <tr>\n      <th>71807</th>\n      <td>NaN</td>\n      <td>10</td>\n      <td>1500491905</td>\n      <td>1500491905</td>\n      <td>20170719</td>\n      <td>{'visits': 1, 'hits': 1, 'pageviews': 1, 'time...</td>\n      <td>{'referralPath': '/analytics/web/', 'campaign'...</td>\n      <td>{'browser': 'Chrome', 'browserVersion': 'not a...</td>\n      <td>{'continent': 'Europe', 'subContinent': 'Easte...</td>\n      <td>[]</td>\n      <td>[{'hitNumber': 1, 'time': 0, 'hour': 12, 'minu...</td>\n      <td>3138568244374225826</td>\n      <td>None</td>\n      <td>None</td>\n      <td>Referral</td>\n      <td>Not Socially Engaged</td>\n    </tr>\n    <tr>\n      <th>71808</th>\n      <td>NaN</td>\n      <td>1</td>\n      <td>1500526601</td>\n      <td>1500526601</td>\n      <td>20170719</td>\n      <td>{'visits': 1, 'hits': 1, 'pageviews': 1, 'time...</td>\n      <td>{'referralPath': '/analytics/web/', 'campaign'...</td>\n      <td>{'browser': 'Chrome', 'browserVersion': 'not a...</td>\n      <td>{'continent': 'Asia', 'subContinent': 'Souther...</td>\n      <td>[{'index': 4, 'value': 'APAC'}]</td>\n      <td>[{'hitNumber': 1, 'time': 0, 'hour': 21, 'minu...</td>\n      <td>8722495976853415028</td>\n      <td>None</td>\n      <td>None</td>\n      <td>Referral</td>\n      <td>Not Socially Engaged</td>\n    </tr>\n    <tr>\n      <th>71809</th>\n      <td>NaN</td>\n      <td>6</td>\n      <td>1500475477</td>\n      <td>1500475477</td>\n      <td>20170719</td>\n      <td>{'visits': 1, 'hits': 1, 'pageviews': 1, 'time...</td>\n      <td>{'referralPath': '/analytics/web/', 'campaign'...</td>\n      <td>{'browser': 'Chrome', 'browserVersion': 'not a...</td>\n      <td>{'continent': 'Americas', 'subContinent': 'Cen...</td>\n      <td>[{'index': 4, 'value': 'Central America'}]</td>\n      <td>[{'hitNumber': 1, 'time': 0, 'hour': 7, 'minut...</td>\n      <td>4640491371990904029</td>\n      <td>None</td>\n      <td>None</td>\n      <td>Referral</td>\n      <td>Not Socially Engaged</td>\n    </tr>\n    <tr>\n      <th>71810</th>\n      <td>NaN</td>\n      <td>1</td>\n      <td>1500528732</td>\n      <td>1500528732</td>\n      <td>20170719</td>\n      <td>{'visits': 1, 'hits': 1, 'pageviews': 1, 'time...</td>\n      <td>{'referralPath': '/analytics/web/', 'campaign'...</td>\n      <td>{'browser': 'Safari', 'browserVersion': 'not a...</td>\n      <td>{'continent': 'Americas', 'subContinent': 'Nor...</td>\n      <td>[{'index': 4, 'value': 'North America'}]</td>\n      <td>[{'hitNumber': 1, 'time': 0, 'hour': 22, 'minu...</td>\n      <td>0414907284502670669</td>\n      <td>None</td>\n      <td>None</td>\n      <td>Referral</td>\n      <td>Not Socially Engaged</td>\n    </tr>\n    <tr>\n      <th>71811</th>\n      <td>NaN</td>\n      <td>1</td>\n      <td>1500507082</td>\n      <td>1500507082</td>\n      <td>20170719</td>\n      <td>{'visits': 1, 'hits': 1, 'pageviews': 1, 'time...</td>\n      <td>{'referralPath': '/analytics/web/', 'campaign'...</td>\n      <td>{'browser': 'Chrome', 'browserVersion': 'not a...</td>\n      <td>{'continent': 'Americas', 'subContinent': 'Nor...</td>\n      <td>[{'index': 4, 'value': 'North America'}]</td>\n      <td>[{'hitNumber': 1, 'time': 0, 'hour': 16, 'minu...</td>\n      <td>7347253756080713595</td>\n      <td>None</td>\n      <td>None</td>\n      <td>Referral</td>\n      <td>Not Socially Engaged</td>\n    </tr>\n  </tbody>\n</table>\n<p>71812 rows × 16 columns</p>\n</div>"
          },
          "metadata": {}
        }
      ]
    },
    {
      "cell_type": "code",
      "source": [
        "query_trafficSource_2 = \"\"\"\n",
        "--Unnesting data adwordClickinfo. Normaly the data looks something like this : trafficSource.adwordsclickInfo.andsomething,\n",
        "--So that is why we need to unnest it in three levels.\n",
        "select *\n",
        "from unnest(array(\n",
        "                    select  adwordsClickInfo\n",
        "                            from unnest(array(\n",
        "                                                SELECT\n",
        "                                                trafficSource\n",
        "                                                 FROM `bigquery-public-data.google_analytics_sample.ga_sessions_*`\n",
        "WHERE _TABLE_SUFFIX BETWEEN '20170701' AND '20170731'\n",
        "                                                \n",
        "                                               )\n",
        "                                        )\n",
        "                 )\n",
        "            )\n",
        "  \"\"\"\n",
        "\n",
        "safe_query_job= client.query(query_trafficSource_2)\n",
        "unnested_trafficSource_b_df= safe_query_job.to_dataframe()\n",
        "unnested_trafficSource_b_df"
      ],
      "metadata": {
        "execution": {
          "iopub.status.busy": "2022-11-03T14:47:07.539815Z",
          "iopub.execute_input": "2022-11-03T14:47:07.540211Z",
          "iopub.status.idle": "2022-11-03T14:47:15.675471Z",
          "shell.execute_reply.started": "2022-11-03T14:47:07.540182Z",
          "shell.execute_reply": "2022-11-03T14:47:15.674285Z"
        },
        "trusted": true,
        "id": "mWAWTXI8Zfoz",
        "outputId": "c594983d-d093-463e-913f-05d5edbe2b34"
      },
      "execution_count": null,
      "outputs": [
        {
          "name": "stderr",
          "text": "/opt/conda/lib/python3.7/site-packages/google/cloud/bigquery/client.py:440: UserWarning: Cannot create BigQuery Storage client, the dependency google-cloud-bigquery-storage is not installed.\n  \"Cannot create BigQuery Storage client, the dependency \"\n",
          "output_type": "stream"
        },
        {
          "execution_count": 13,
          "output_type": "execute_result",
          "data": {
            "text/plain": "       campaignId  adGroupId  creativeId  criteriaId  page  slot  \\\n0             NaN        NaN         NaN         NaN   NaN  None   \n1             NaN        NaN         NaN         NaN   NaN  None   \n2             NaN        NaN         NaN         NaN   NaN  None   \n3             NaN        NaN         NaN         NaN   NaN  None   \n4             NaN        NaN         NaN         NaN   NaN  None   \n...           ...        ...         ...         ...   ...   ...   \n71807         NaN        NaN         NaN         NaN   NaN  None   \n71808         NaN        NaN         NaN         NaN   NaN  None   \n71809         NaN        NaN         NaN         NaN   NaN  None   \n71810         NaN        NaN         NaN         NaN   NaN  None   \n71811         NaN        NaN         NaN         NaN   NaN  None   \n\n                  criteriaParameters gclId  customerId adNetworkType  \\\n0      not available in demo dataset  None         NaN          None   \n1      not available in demo dataset  None         NaN          None   \n2      not available in demo dataset  None         NaN          None   \n3      not available in demo dataset  None         NaN          None   \n4      not available in demo dataset  None         NaN          None   \n...                              ...   ...         ...           ...   \n71807  not available in demo dataset  None         NaN          None   \n71808  not available in demo dataset  None         NaN          None   \n71809  not available in demo dataset  None         NaN          None   \n71810  not available in demo dataset  None         NaN          None   \n71811  not available in demo dataset  None         NaN          None   \n\n      targetingCriteria isVideoAd  \n0                  None      None  \n1                  None      None  \n2                  None      None  \n3                  None      None  \n4                  None      None  \n...                 ...       ...  \n71807              None      None  \n71808              None      None  \n71809              None      None  \n71810              None      None  \n71811              None      None  \n\n[71812 rows x 12 columns]",
            "text/html": "<div>\n<style scoped>\n    .dataframe tbody tr th:only-of-type {\n        vertical-align: middle;\n    }\n\n    .dataframe tbody tr th {\n        vertical-align: top;\n    }\n\n    .dataframe thead th {\n        text-align: right;\n    }\n</style>\n<table border=\"1\" class=\"dataframe\">\n  <thead>\n    <tr style=\"text-align: right;\">\n      <th></th>\n      <th>campaignId</th>\n      <th>adGroupId</th>\n      <th>creativeId</th>\n      <th>criteriaId</th>\n      <th>page</th>\n      <th>slot</th>\n      <th>criteriaParameters</th>\n      <th>gclId</th>\n      <th>customerId</th>\n      <th>adNetworkType</th>\n      <th>targetingCriteria</th>\n      <th>isVideoAd</th>\n    </tr>\n  </thead>\n  <tbody>\n    <tr>\n      <th>0</th>\n      <td>NaN</td>\n      <td>NaN</td>\n      <td>NaN</td>\n      <td>NaN</td>\n      <td>NaN</td>\n      <td>None</td>\n      <td>not available in demo dataset</td>\n      <td>None</td>\n      <td>NaN</td>\n      <td>None</td>\n      <td>None</td>\n      <td>None</td>\n    </tr>\n    <tr>\n      <th>1</th>\n      <td>NaN</td>\n      <td>NaN</td>\n      <td>NaN</td>\n      <td>NaN</td>\n      <td>NaN</td>\n      <td>None</td>\n      <td>not available in demo dataset</td>\n      <td>None</td>\n      <td>NaN</td>\n      <td>None</td>\n      <td>None</td>\n      <td>None</td>\n    </tr>\n    <tr>\n      <th>2</th>\n      <td>NaN</td>\n      <td>NaN</td>\n      <td>NaN</td>\n      <td>NaN</td>\n      <td>NaN</td>\n      <td>None</td>\n      <td>not available in demo dataset</td>\n      <td>None</td>\n      <td>NaN</td>\n      <td>None</td>\n      <td>None</td>\n      <td>None</td>\n    </tr>\n    <tr>\n      <th>3</th>\n      <td>NaN</td>\n      <td>NaN</td>\n      <td>NaN</td>\n      <td>NaN</td>\n      <td>NaN</td>\n      <td>None</td>\n      <td>not available in demo dataset</td>\n      <td>None</td>\n      <td>NaN</td>\n      <td>None</td>\n      <td>None</td>\n      <td>None</td>\n    </tr>\n    <tr>\n      <th>4</th>\n      <td>NaN</td>\n      <td>NaN</td>\n      <td>NaN</td>\n      <td>NaN</td>\n      <td>NaN</td>\n      <td>None</td>\n      <td>not available in demo dataset</td>\n      <td>None</td>\n      <td>NaN</td>\n      <td>None</td>\n      <td>None</td>\n      <td>None</td>\n    </tr>\n    <tr>\n      <th>...</th>\n      <td>...</td>\n      <td>...</td>\n      <td>...</td>\n      <td>...</td>\n      <td>...</td>\n      <td>...</td>\n      <td>...</td>\n      <td>...</td>\n      <td>...</td>\n      <td>...</td>\n      <td>...</td>\n      <td>...</td>\n    </tr>\n    <tr>\n      <th>71807</th>\n      <td>NaN</td>\n      <td>NaN</td>\n      <td>NaN</td>\n      <td>NaN</td>\n      <td>NaN</td>\n      <td>None</td>\n      <td>not available in demo dataset</td>\n      <td>None</td>\n      <td>NaN</td>\n      <td>None</td>\n      <td>None</td>\n      <td>None</td>\n    </tr>\n    <tr>\n      <th>71808</th>\n      <td>NaN</td>\n      <td>NaN</td>\n      <td>NaN</td>\n      <td>NaN</td>\n      <td>NaN</td>\n      <td>None</td>\n      <td>not available in demo dataset</td>\n      <td>None</td>\n      <td>NaN</td>\n      <td>None</td>\n      <td>None</td>\n      <td>None</td>\n    </tr>\n    <tr>\n      <th>71809</th>\n      <td>NaN</td>\n      <td>NaN</td>\n      <td>NaN</td>\n      <td>NaN</td>\n      <td>NaN</td>\n      <td>None</td>\n      <td>not available in demo dataset</td>\n      <td>None</td>\n      <td>NaN</td>\n      <td>None</td>\n      <td>None</td>\n      <td>None</td>\n    </tr>\n    <tr>\n      <th>71810</th>\n      <td>NaN</td>\n      <td>NaN</td>\n      <td>NaN</td>\n      <td>NaN</td>\n      <td>NaN</td>\n      <td>None</td>\n      <td>not available in demo dataset</td>\n      <td>None</td>\n      <td>NaN</td>\n      <td>None</td>\n      <td>None</td>\n      <td>None</td>\n    </tr>\n    <tr>\n      <th>71811</th>\n      <td>NaN</td>\n      <td>NaN</td>\n      <td>NaN</td>\n      <td>NaN</td>\n      <td>NaN</td>\n      <td>None</td>\n      <td>not available in demo dataset</td>\n      <td>None</td>\n      <td>NaN</td>\n      <td>None</td>\n      <td>None</td>\n      <td>None</td>\n    </tr>\n  </tbody>\n</table>\n<p>71812 rows × 12 columns</p>\n</div>"
          },
          "metadata": {}
        }
      ]
    },
    {
      "cell_type": "code",
      "source": [
        "unnested_trafficSource_b_df.to_csv(\"unnested_trafficSource_b_df.csv\")"
      ],
      "metadata": {
        "execution": {
          "iopub.status.busy": "2022-11-03T14:48:00.751245Z",
          "iopub.execute_input": "2022-11-03T14:48:00.751639Z",
          "iopub.status.idle": "2022-11-03T14:48:01.045424Z",
          "shell.execute_reply.started": "2022-11-03T14:48:00.751609Z",
          "shell.execute_reply": "2022-11-03T14:48:01.044210Z"
        },
        "trusted": true,
        "id": "mHdUVQyvZfo1"
      },
      "execution_count": null,
      "outputs": []
    },
    {
      "cell_type": "code",
      "source": [
        "query_device = \"\"\"\n",
        "select * from unnest(array(\n",
        "                            SELECT\n",
        "                            device\n",
        "                             FROM `bigquery-public-data.google_analytics_sample.ga_sessions_*`\n",
        "WHERE _TABLE_SUFFIX BETWEEN '20170701' AND '20170731'\n",
        "                            \n",
        "                           )\n",
        "                    )\n",
        "  \"\"\"\n",
        "safe_query_job= client.query(query_device)\n",
        "unnested_device_df= safe_query_job.to_dataframe()\n",
        "unnested_device_df"
      ],
      "metadata": {
        "execution": {
          "iopub.status.busy": "2022-11-03T14:51:51.664784Z",
          "iopub.execute_input": "2022-11-03T14:51:51.665179Z",
          "iopub.status.idle": "2022-11-03T14:52:05.902945Z",
          "shell.execute_reply.started": "2022-11-03T14:51:51.665151Z",
          "shell.execute_reply": "2022-11-03T14:52:05.901793Z"
        },
        "trusted": true,
        "id": "N8993jqDZfo3",
        "outputId": "fb8a58e3-2204-4807-b039-27745358ad7c"
      },
      "execution_count": null,
      "outputs": [
        {
          "name": "stderr",
          "text": "/opt/conda/lib/python3.7/site-packages/google/cloud/bigquery/client.py:440: UserWarning: Cannot create BigQuery Storage client, the dependency google-cloud-bigquery-storage is not installed.\n  \"Cannot create BigQuery Storage client, the dependency \"\n",
          "output_type": "stream"
        },
        {
          "execution_count": 15,
          "output_type": "execute_result",
          "data": {
            "text/plain": "                browser                 browserVersion  \\\n0            Opera Mini  not available in demo dataset   \n1            Opera Mini  not available in demo dataset   \n2      Nintendo Browser  not available in demo dataset   \n3                Safari  not available in demo dataset   \n4                Safari  not available in demo dataset   \n...                 ...                            ...   \n71807            Chrome  not available in demo dataset   \n71808            Safari  not available in demo dataset   \n71809            Chrome  not available in demo dataset   \n71810            Safari  not available in demo dataset   \n71811            Chrome  not available in demo dataset   \n\n                         browserSize operatingSystem  \\\n0      not available in demo dataset      BlackBerry   \n1      not available in demo dataset         Samsung   \n2      not available in demo dataset   Nintendo WiiU   \n3      not available in demo dataset   Windows Phone   \n4      not available in demo dataset   Windows Phone   \n...                              ...             ...   \n71807  not available in demo dataset       Macintosh   \n71808  not available in demo dataset       Macintosh   \n71809  not available in demo dataset       Macintosh   \n71810  not available in demo dataset       Macintosh   \n71811  not available in demo dataset       Macintosh   \n\n              operatingSystemVersion  isMobile           mobileDeviceBranding  \\\n0      not available in demo dataset      True  not available in demo dataset   \n1      not available in demo dataset      True  not available in demo dataset   \n2      not available in demo dataset      True  not available in demo dataset   \n3      not available in demo dataset      True  not available in demo dataset   \n4      not available in demo dataset      True  not available in demo dataset   \n...                              ...       ...                            ...   \n71807  not available in demo dataset     False  not available in demo dataset   \n71808  not available in demo dataset     False  not available in demo dataset   \n71809  not available in demo dataset     False  not available in demo dataset   \n71810  not available in demo dataset     False  not available in demo dataset   \n71811  not available in demo dataset     False  not available in demo dataset   \n\n                   mobileDeviceModel            mobileInputSelector  \\\n0      not available in demo dataset  not available in demo dataset   \n1      not available in demo dataset  not available in demo dataset   \n2      not available in demo dataset  not available in demo dataset   \n3      not available in demo dataset  not available in demo dataset   \n4      not available in demo dataset  not available in demo dataset   \n...                              ...                            ...   \n71807  not available in demo dataset  not available in demo dataset   \n71808  not available in demo dataset  not available in demo dataset   \n71809  not available in demo dataset  not available in demo dataset   \n71810  not available in demo dataset  not available in demo dataset   \n71811  not available in demo dataset  not available in demo dataset   \n\n                    mobileDeviceInfo      mobileDeviceMarketingName  \\\n0      not available in demo dataset  not available in demo dataset   \n1      not available in demo dataset  not available in demo dataset   \n2      not available in demo dataset  not available in demo dataset   \n3      not available in demo dataset  not available in demo dataset   \n4      not available in demo dataset  not available in demo dataset   \n...                              ...                            ...   \n71807  not available in demo dataset  not available in demo dataset   \n71808  not available in demo dataset  not available in demo dataset   \n71809  not available in demo dataset  not available in demo dataset   \n71810  not available in demo dataset  not available in demo dataset   \n71811  not available in demo dataset  not available in demo dataset   \n\n                        flashVersion javaEnabled  \\\n0      not available in demo dataset        None   \n1      not available in demo dataset        None   \n2      not available in demo dataset        None   \n3      not available in demo dataset        None   \n4      not available in demo dataset        None   \n...                              ...         ...   \n71807  not available in demo dataset        None   \n71808  not available in demo dataset        None   \n71809  not available in demo dataset        None   \n71810  not available in demo dataset        None   \n71811  not available in demo dataset        None   \n\n                            language                   screenColors  \\\n0      not available in demo dataset  not available in demo dataset   \n1      not available in demo dataset  not available in demo dataset   \n2      not available in demo dataset  not available in demo dataset   \n3      not available in demo dataset  not available in demo dataset   \n4      not available in demo dataset  not available in demo dataset   \n...                              ...                            ...   \n71807  not available in demo dataset  not available in demo dataset   \n71808  not available in demo dataset  not available in demo dataset   \n71809  not available in demo dataset  not available in demo dataset   \n71810  not available in demo dataset  not available in demo dataset   \n71811  not available in demo dataset  not available in demo dataset   \n\n                    screenResolution deviceCategory  \n0      not available in demo dataset         mobile  \n1      not available in demo dataset         mobile  \n2      not available in demo dataset         mobile  \n3      not available in demo dataset         mobile  \n4      not available in demo dataset         mobile  \n...                              ...            ...  \n71807  not available in demo dataset        desktop  \n71808  not available in demo dataset        desktop  \n71809  not available in demo dataset        desktop  \n71810  not available in demo dataset        desktop  \n71811  not available in demo dataset        desktop  \n\n[71812 rows x 17 columns]",
            "text/html": "<div>\n<style scoped>\n    .dataframe tbody tr th:only-of-type {\n        vertical-align: middle;\n    }\n\n    .dataframe tbody tr th {\n        vertical-align: top;\n    }\n\n    .dataframe thead th {\n        text-align: right;\n    }\n</style>\n<table border=\"1\" class=\"dataframe\">\n  <thead>\n    <tr style=\"text-align: right;\">\n      <th></th>\n      <th>browser</th>\n      <th>browserVersion</th>\n      <th>browserSize</th>\n      <th>operatingSystem</th>\n      <th>operatingSystemVersion</th>\n      <th>isMobile</th>\n      <th>mobileDeviceBranding</th>\n      <th>mobileDeviceModel</th>\n      <th>mobileInputSelector</th>\n      <th>mobileDeviceInfo</th>\n      <th>mobileDeviceMarketingName</th>\n      <th>flashVersion</th>\n      <th>javaEnabled</th>\n      <th>language</th>\n      <th>screenColors</th>\n      <th>screenResolution</th>\n      <th>deviceCategory</th>\n    </tr>\n  </thead>\n  <tbody>\n    <tr>\n      <th>0</th>\n      <td>Opera Mini</td>\n      <td>not available in demo dataset</td>\n      <td>not available in demo dataset</td>\n      <td>BlackBerry</td>\n      <td>not available in demo dataset</td>\n      <td>True</td>\n      <td>not available in demo dataset</td>\n      <td>not available in demo dataset</td>\n      <td>not available in demo dataset</td>\n      <td>not available in demo dataset</td>\n      <td>not available in demo dataset</td>\n      <td>not available in demo dataset</td>\n      <td>None</td>\n      <td>not available in demo dataset</td>\n      <td>not available in demo dataset</td>\n      <td>not available in demo dataset</td>\n      <td>mobile</td>\n    </tr>\n    <tr>\n      <th>1</th>\n      <td>Opera Mini</td>\n      <td>not available in demo dataset</td>\n      <td>not available in demo dataset</td>\n      <td>Samsung</td>\n      <td>not available in demo dataset</td>\n      <td>True</td>\n      <td>not available in demo dataset</td>\n      <td>not available in demo dataset</td>\n      <td>not available in demo dataset</td>\n      <td>not available in demo dataset</td>\n      <td>not available in demo dataset</td>\n      <td>not available in demo dataset</td>\n      <td>None</td>\n      <td>not available in demo dataset</td>\n      <td>not available in demo dataset</td>\n      <td>not available in demo dataset</td>\n      <td>mobile</td>\n    </tr>\n    <tr>\n      <th>2</th>\n      <td>Nintendo Browser</td>\n      <td>not available in demo dataset</td>\n      <td>not available in demo dataset</td>\n      <td>Nintendo WiiU</td>\n      <td>not available in demo dataset</td>\n      <td>True</td>\n      <td>not available in demo dataset</td>\n      <td>not available in demo dataset</td>\n      <td>not available in demo dataset</td>\n      <td>not available in demo dataset</td>\n      <td>not available in demo dataset</td>\n      <td>not available in demo dataset</td>\n      <td>None</td>\n      <td>not available in demo dataset</td>\n      <td>not available in demo dataset</td>\n      <td>not available in demo dataset</td>\n      <td>mobile</td>\n    </tr>\n    <tr>\n      <th>3</th>\n      <td>Safari</td>\n      <td>not available in demo dataset</td>\n      <td>not available in demo dataset</td>\n      <td>Windows Phone</td>\n      <td>not available in demo dataset</td>\n      <td>True</td>\n      <td>not available in demo dataset</td>\n      <td>not available in demo dataset</td>\n      <td>not available in demo dataset</td>\n      <td>not available in demo dataset</td>\n      <td>not available in demo dataset</td>\n      <td>not available in demo dataset</td>\n      <td>None</td>\n      <td>not available in demo dataset</td>\n      <td>not available in demo dataset</td>\n      <td>not available in demo dataset</td>\n      <td>mobile</td>\n    </tr>\n    <tr>\n      <th>4</th>\n      <td>Safari</td>\n      <td>not available in demo dataset</td>\n      <td>not available in demo dataset</td>\n      <td>Windows Phone</td>\n      <td>not available in demo dataset</td>\n      <td>True</td>\n      <td>not available in demo dataset</td>\n      <td>not available in demo dataset</td>\n      <td>not available in demo dataset</td>\n      <td>not available in demo dataset</td>\n      <td>not available in demo dataset</td>\n      <td>not available in demo dataset</td>\n      <td>None</td>\n      <td>not available in demo dataset</td>\n      <td>not available in demo dataset</td>\n      <td>not available in demo dataset</td>\n      <td>mobile</td>\n    </tr>\n    <tr>\n      <th>...</th>\n      <td>...</td>\n      <td>...</td>\n      <td>...</td>\n      <td>...</td>\n      <td>...</td>\n      <td>...</td>\n      <td>...</td>\n      <td>...</td>\n      <td>...</td>\n      <td>...</td>\n      <td>...</td>\n      <td>...</td>\n      <td>...</td>\n      <td>...</td>\n      <td>...</td>\n      <td>...</td>\n      <td>...</td>\n    </tr>\n    <tr>\n      <th>71807</th>\n      <td>Chrome</td>\n      <td>not available in demo dataset</td>\n      <td>not available in demo dataset</td>\n      <td>Macintosh</td>\n      <td>not available in demo dataset</td>\n      <td>False</td>\n      <td>not available in demo dataset</td>\n      <td>not available in demo dataset</td>\n      <td>not available in demo dataset</td>\n      <td>not available in demo dataset</td>\n      <td>not available in demo dataset</td>\n      <td>not available in demo dataset</td>\n      <td>None</td>\n      <td>not available in demo dataset</td>\n      <td>not available in demo dataset</td>\n      <td>not available in demo dataset</td>\n      <td>desktop</td>\n    </tr>\n    <tr>\n      <th>71808</th>\n      <td>Safari</td>\n      <td>not available in demo dataset</td>\n      <td>not available in demo dataset</td>\n      <td>Macintosh</td>\n      <td>not available in demo dataset</td>\n      <td>False</td>\n      <td>not available in demo dataset</td>\n      <td>not available in demo dataset</td>\n      <td>not available in demo dataset</td>\n      <td>not available in demo dataset</td>\n      <td>not available in demo dataset</td>\n      <td>not available in demo dataset</td>\n      <td>None</td>\n      <td>not available in demo dataset</td>\n      <td>not available in demo dataset</td>\n      <td>not available in demo dataset</td>\n      <td>desktop</td>\n    </tr>\n    <tr>\n      <th>71809</th>\n      <td>Chrome</td>\n      <td>not available in demo dataset</td>\n      <td>not available in demo dataset</td>\n      <td>Macintosh</td>\n      <td>not available in demo dataset</td>\n      <td>False</td>\n      <td>not available in demo dataset</td>\n      <td>not available in demo dataset</td>\n      <td>not available in demo dataset</td>\n      <td>not available in demo dataset</td>\n      <td>not available in demo dataset</td>\n      <td>not available in demo dataset</td>\n      <td>None</td>\n      <td>not available in demo dataset</td>\n      <td>not available in demo dataset</td>\n      <td>not available in demo dataset</td>\n      <td>desktop</td>\n    </tr>\n    <tr>\n      <th>71810</th>\n      <td>Safari</td>\n      <td>not available in demo dataset</td>\n      <td>not available in demo dataset</td>\n      <td>Macintosh</td>\n      <td>not available in demo dataset</td>\n      <td>False</td>\n      <td>not available in demo dataset</td>\n      <td>not available in demo dataset</td>\n      <td>not available in demo dataset</td>\n      <td>not available in demo dataset</td>\n      <td>not available in demo dataset</td>\n      <td>not available in demo dataset</td>\n      <td>None</td>\n      <td>not available in demo dataset</td>\n      <td>not available in demo dataset</td>\n      <td>not available in demo dataset</td>\n      <td>desktop</td>\n    </tr>\n    <tr>\n      <th>71811</th>\n      <td>Chrome</td>\n      <td>not available in demo dataset</td>\n      <td>not available in demo dataset</td>\n      <td>Macintosh</td>\n      <td>not available in demo dataset</td>\n      <td>False</td>\n      <td>not available in demo dataset</td>\n      <td>not available in demo dataset</td>\n      <td>not available in demo dataset</td>\n      <td>not available in demo dataset</td>\n      <td>not available in demo dataset</td>\n      <td>not available in demo dataset</td>\n      <td>None</td>\n      <td>not available in demo dataset</td>\n      <td>not available in demo dataset</td>\n      <td>not available in demo dataset</td>\n      <td>desktop</td>\n    </tr>\n  </tbody>\n</table>\n<p>71812 rows × 17 columns</p>\n</div>"
          },
          "metadata": {}
        }
      ]
    },
    {
      "cell_type": "code",
      "source": [
        "query_hits = \"\"\"\n",
        "select * from unnest(array(\n",
        "                            SELECT\n",
        "                            STRUCT(hits)\n",
        "                            FROM `bigquery-public-data.google_analytics_sample.ga_sessions_*`\n",
        "WHERE _TABLE_SUFFIX BETWEEN '20170701' AND '20170731'\n",
        "                           )\n",
        "                    )\n",
        " \"\"\"\n",
        "safe_query_job= client.query(query_hits)\n",
        "unnested_hits_df= safe_query_job.to_dataframe()\n",
        "unnested_hits_df"
      ],
      "metadata": {
        "execution": {
          "iopub.status.busy": "2022-11-03T15:22:07.199783Z",
          "iopub.execute_input": "2022-11-03T15:22:07.200207Z",
          "iopub.status.idle": "2022-11-03T15:30:12.993634Z",
          "shell.execute_reply.started": "2022-11-03T15:22:07.200174Z",
          "shell.execute_reply": "2022-11-03T15:30:12.992427Z"
        },
        "trusted": true,
        "id": "ePT5m1fCZfo4",
        "outputId": "62f590b7-48c3-42fd-957e-03d7f38acf1b"
      },
      "execution_count": null,
      "outputs": [
        {
          "name": "stderr",
          "text": "/opt/conda/lib/python3.7/site-packages/google/cloud/bigquery/client.py:440: UserWarning: Cannot create BigQuery Storage client, the dependency google-cloud-bigquery-storage is not installed.\n  \"Cannot create BigQuery Storage client, the dependency \"\n",
          "output_type": "stream"
        },
        {
          "execution_count": 18,
          "output_type": "execute_result",
          "data": {
            "text/plain": "                                                    hits\n0      [{'hitNumber': 1, 'time': 0, 'hour': 16, 'minu...\n1      [{'hitNumber': 1, 'time': 0, 'hour': 7, 'minut...\n2      [{'hitNumber': 1, 'time': 0, 'hour': 5, 'minut...\n3      [{'hitNumber': 1, 'time': 0, 'hour': 8, 'minut...\n4      [{'hitNumber': 1, 'time': 0, 'hour': 5, 'minut...\n...                                                  ...\n71807  [{'hitNumber': 1, 'time': 0, 'hour': 17, 'minu...\n71808  [{'hitNumber': 1, 'time': 0, 'hour': 6, 'minut...\n71809  [{'hitNumber': 1, 'time': 0, 'hour': 6, 'minut...\n71810  [{'hitNumber': 1, 'time': 0, 'hour': 6, 'minut...\n71811  [{'hitNumber': 1, 'time': 0, 'hour': 9, 'minut...\n\n[71812 rows x 1 columns]",
            "text/html": "<div>\n<style scoped>\n    .dataframe tbody tr th:only-of-type {\n        vertical-align: middle;\n    }\n\n    .dataframe tbody tr th {\n        vertical-align: top;\n    }\n\n    .dataframe thead th {\n        text-align: right;\n    }\n</style>\n<table border=\"1\" class=\"dataframe\">\n  <thead>\n    <tr style=\"text-align: right;\">\n      <th></th>\n      <th>hits</th>\n    </tr>\n  </thead>\n  <tbody>\n    <tr>\n      <th>0</th>\n      <td>[{'hitNumber': 1, 'time': 0, 'hour': 16, 'minu...</td>\n    </tr>\n    <tr>\n      <th>1</th>\n      <td>[{'hitNumber': 1, 'time': 0, 'hour': 7, 'minut...</td>\n    </tr>\n    <tr>\n      <th>2</th>\n      <td>[{'hitNumber': 1, 'time': 0, 'hour': 5, 'minut...</td>\n    </tr>\n    <tr>\n      <th>3</th>\n      <td>[{'hitNumber': 1, 'time': 0, 'hour': 8, 'minut...</td>\n    </tr>\n    <tr>\n      <th>4</th>\n      <td>[{'hitNumber': 1, 'time': 0, 'hour': 5, 'minut...</td>\n    </tr>\n    <tr>\n      <th>...</th>\n      <td>...</td>\n    </tr>\n    <tr>\n      <th>71807</th>\n      <td>[{'hitNumber': 1, 'time': 0, 'hour': 17, 'minu...</td>\n    </tr>\n    <tr>\n      <th>71808</th>\n      <td>[{'hitNumber': 1, 'time': 0, 'hour': 6, 'minut...</td>\n    </tr>\n    <tr>\n      <th>71809</th>\n      <td>[{'hitNumber': 1, 'time': 0, 'hour': 6, 'minut...</td>\n    </tr>\n    <tr>\n      <th>71810</th>\n      <td>[{'hitNumber': 1, 'time': 0, 'hour': 6, 'minut...</td>\n    </tr>\n    <tr>\n      <th>71811</th>\n      <td>[{'hitNumber': 1, 'time': 0, 'hour': 9, 'minut...</td>\n    </tr>\n  </tbody>\n</table>\n<p>71812 rows × 1 columns</p>\n</div>"
          },
          "metadata": {}
        }
      ]
    },
    {
      "cell_type": "code",
      "source": [
        "summary_df_complete_month"
      ],
      "metadata": {
        "id": "7Y9Y0WzPZfo5"
      },
      "execution_count": null,
      "outputs": []
    },
    {
      "cell_type": "code",
      "source": [
        "summary_df"
      ],
      "metadata": {
        "trusted": true,
        "id": "AwOdGt2rZfo6"
      },
      "execution_count": null,
      "outputs": []
    },
    {
      "cell_type": "code",
      "source": [],
      "metadata": {
        "id": "SKRO8VTiZfo7"
      },
      "execution_count": null,
      "outputs": []
    }
  ]
}